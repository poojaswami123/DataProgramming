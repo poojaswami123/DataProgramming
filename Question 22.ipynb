{
 "cells": [
  {
   "cell_type": "code",
   "execution_count": 1,
   "id": "0c02d89d-7273-4f34-8152-ed07641ff8ff",
   "metadata": {},
   "outputs": [],
   "source": [
    "import sqlite3\n",
    "from datetime import date\n",
    "\n",
    "# New set of weather data for the example\n",
    "new_weather_data = [\n",
    "    (1, '2015-01-01', 10),\n",
    "    (2, '2015-01-02', 25),\n",
    "    (3, '2015-01-03', 20),\n",
    "    (4, '2015-01-04', 30)\n",
    "]\n",
    "\n"
   ]
  },
  {
   "cell_type": "code",
   "execution_count": 2,
   "id": "413bce4a-b989-4d8d-892c-26b88d9d3398",
   "metadata": {},
   "outputs": [],
   "source": [
    "\n",
    "\n",
    "# Function to create the database and insert the temperature records\n",
    "def create_temperature_database():\n",
    "    # Establishing a connection to the SQLite database\n",
    "    conn = sqlite3.connect('temp_daata.db')\n",
    "    # Creating a cursor object to interact with the database\n",
    "    cur = conn.cursor()\n",
    "\n",
    "    # Creating the TemperatureRecords table if it doesn't already exist\n",
    "    cur.execute('''\n",
    "        CREATE TABLE IF NOT EXISTS TemperatureRecords (\n",
    "            record_id INTEGER PRIMARY KEY,\n",
    "            date TEXT,\n",
    "            temperature INTEGER\n",
    "        )\n",
    "    ''')\n",
    "\n",
    "    # Inserting the temperature records into the TemperatureRecords table\n",
    "    cur.executemany('''\n",
    "        INSERT INTO TemperatureRecords (record_id, date, temperature) \n",
    "        VALUES (?, ?, ?)\n",
    "    ''', new_weather_data)\n",
    "\n",
    "    # Committing the transaction to save the changes\n",
    "    conn.commit()\n",
    "    # Closing the connection to the database\n",
    "    conn.close()\n",
    "\n",
    "\n",
    "\n"
   ]
  },
  {
   "cell_type": "code",
   "execution_count": 3,
   "id": "e914b8d8-6964-4451-b55a-c187f45403b1",
   "metadata": {},
   "outputs": [],
   "source": [
    "\n",
    "\n",
    "# Function to fetch the days with increased temperatures\n",
    "def fetch_days_with_higher_temperatures():\n",
    "    # Establishing a connection to the SQLite database\n",
    "    conn = sqlite3.connect('temp_daata.db')\n",
    "    # Creating a cursor object to interact with the database\n",
    "    cur = conn.cursor()\n",
    "\n",
    "    # Define the SQL query to find days with higher temperatures\n",
    "    sql_query = '''\n",
    "    SELECT record_id  FROM TemperatureRecords\n",
    "    WHERE temperature > (\n",
    "        SELECT AVG(temperature) FROM TemperatureRecords\n",
    "    )\n",
    "    '''\n",
    "\n",
    "    # Execute the SQL query\n",
    "    cur.execute(sql_query)\n",
    "\n",
    "    # Fetch all matching record IDs and dates\n",
    "    days_with_higher_temps = cur.fetchall()\n",
    "\n",
    "    # Closing the cursor and connection\n",
    "    cur.close()\n",
    "    conn.close()\n",
    "\n",
    "    return days_with_higher_temps\n"
   ]
  },
  {
   "cell_type": "code",
   "execution_count": 4,
   "id": "536a8039-d97b-408d-b83e-c08fc44be40f",
   "metadata": {},
   "outputs": [],
   "source": [
    "# SQL query to find days with higher temperatures than the previous day\n",
    "query_higher_than_previous_day = \"\"\"\n",
    "    SELECT current_day.record_id\n",
    "    FROM TemperatureRecords current_day\n",
    "    JOIN TemperatureRecords previous_day \n",
    "    ON DATE(current_day.date, '-1 day') = previous_day.date\n",
    "    WHERE current_day.temperature > previous_day.temperature\n",
    "\"\"\"\n"
   ]
  },
  {
   "cell_type": "code",
   "execution_count": 5,
   "id": "84e8fe4f-60e4-444d-9d45-18639196e3ef",
   "metadata": {},
   "outputs": [
    {
     "name": "stdout",
     "output_type": "stream",
     "text": [
      "Days with higher temperatures than the previous day (record IDs): [(2,), (4,)]\n"
     ]
    }
   ],
   "source": [
    "# Create the database and insert the temperature records\n",
    "create_temperature_database()\n",
    "\n",
    "# Retrieve the days with increased temperatures compared to the previous day\n",
    "days_with_higher_temperatures = fetch_days_with_higher_temperatures()\n",
    "\n",
    "# Print the days with higher temperatures (record IDs)\n",
    "print(\"Days with higher temperatures than the previous day (record IDs):\", days_with_higher_temperatures)\n"
   ]
  },
  {
   "cell_type": "code",
   "execution_count": null,
   "id": "1c9e2107-158a-4899-a68b-c77f08b9a1f2",
   "metadata": {},
   "outputs": [],
   "source": []
  }
 ],
 "metadata": {
  "kernelspec": {
   "display_name": "Python 3 (ipykernel)",
   "language": "python",
   "name": "python3"
  },
  "language_info": {
   "codemirror_mode": {
    "name": "ipython",
    "version": 3
   },
   "file_extension": ".py",
   "mimetype": "text/x-python",
   "name": "python",
   "nbconvert_exporter": "python",
   "pygments_lexer": "ipython3",
   "version": "3.11.7"
  }
 },
 "nbformat": 4,
 "nbformat_minor": 5
}
