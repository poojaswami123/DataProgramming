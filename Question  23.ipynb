{
 "cells": [
  {
   "cell_type": "code",
   "execution_count": 2,
   "id": "b256f5c5-4a4b-47b2-bead-267d2c932dcd",
   "metadata": {},
   "outputs": [
    {
     "name": "stdout",
     "output_type": "stream",
     "text": [
      "f(0, 0):\n",
      "\n",
      "f(0, 1):\n",
      "*\n",
      "\n",
      "f(0, 2):\n",
      "*\n",
      "**\n",
      " *\n",
      "\n",
      "f(0, 4):\n",
      "*\n",
      "**\n",
      " *\n",
      "****\n",
      "  *\n",
      "  **\n",
      "   *\n"
     ]
    }
   ],
   "source": [
    "def tough(indentation, stars):\n",
    "\n",
    "  if stars == 0:\n",
    "\n",
    "    return\n",
    "\n",
    "  elif stars == 1:\n",
    "\n",
    "    print(' ' * indentation + '*')\n",
    "\n",
    "  else:\n",
    "\n",
    "    # Print the initial pattern part\n",
    "\n",
    "    print(' ' * indentation + '*')\n",
    "\n",
    "    if stars > 1:\n",
    "\n",
    "      print(' ' * indentation + '**')\n",
    "\n",
    "      print(' ' * (indentation + 1) + '*')\n",
    "\n",
    "\n",
    "\n",
    "    # Print the line with stars in the middle of the pattern\n",
    "\n",
    "    if stars > 2:\n",
    "\n",
    "      print(' ' * indentation + '*' * stars)\n",
    "\n",
    "\n",
    "\n",
    "    # Recursively call to generate the next part of the pattern\n",
    "\n",
    "    if stars > 2:\n",
    "\n",
    "      tough(indentation + 2, stars - 2)\n",
    "\n",
    "\n",
    "\n",
    "# Test cases\n",
    "\n",
    "print(\"f(0, 0):\")\n",
    "\n",
    "tough(0, 0)\n",
    "\n",
    "print(\"\\nf(0, 1):\")\n",
    "\n",
    "tough(0, 1)\n",
    "\n",
    "print(\"\\nf(0, 2):\")\n",
    "\n",
    "tough(0, 2)\n",
    "\n",
    "print(\"\\nf(0, 4):\")\n",
    "\n",
    "tough(0, 4)"
   ]
  },
  {
   "cell_type": "code",
   "execution_count": null,
   "id": "7cff4f74-8a07-4239-a78c-63f9a468bbbc",
   "metadata": {},
   "outputs": [],
   "source": []
  }
 ],
 "metadata": {
  "kernelspec": {
   "display_name": "Python 3 (ipykernel)",
   "language": "python",
   "name": "python3"
  },
  "language_info": {
   "codemirror_mode": {
    "name": "ipython",
    "version": 3
   },
   "file_extension": ".py",
   "mimetype": "text/x-python",
   "name": "python",
   "nbconvert_exporter": "python",
   "pygments_lexer": "ipython3",
   "version": "3.11.7"
  }
 },
 "nbformat": 4,
 "nbformat_minor": 5
}
