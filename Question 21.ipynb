{
 "cells": [
  {
   "cell_type": "code",
   "execution_count": 1,
   "id": "98eac351-1173-4ab2-8751-da31a948e3a2",
   "metadata": {},
   "outputs": [
    {
     "name": "stdout",
     "output_type": "stream",
     "text": [
      "Length of segment: 5.0\n",
      "Slope of segment: 0.75\n"
     ]
    }
   ],
   "source": [
    "class Point:\n",
    "    def __init__(self, x=0, y=0):\n",
    "        self.x = x\n",
    "        self.y = y\n",
    "\n",
    "class Segment:\n",
    "    def __init__(self, p1, p2):\n",
    "        self.p1 = p1\n",
    "        self.p2 = p2\n",
    "\n",
    "    def length(self):\n",
    "        return ((self.p2.x - self.p1.x)**2 + (self.p2.y - self.p1.y)**2)**0.5\n",
    "\n",
    "    def slope(self):\n",
    "        if self.p2.x - self.p1.x == 0:\n",
    "            return None  \n",
    "        else:\n",
    "            return   (self.p2.x - self.p1.x) / (self.p2.y - self.p1.y)\n",
    "\n",
    "p1 = Point(3, 4)\n",
    "p2 = Point()  \n",
    "s = Segment(p1, p2)\n",
    "\n",
    "print(\"Length of segment:\", s.length())\n",
    "print(\"Slope of segment:\", s.slope())"
   ]
  },
  {
   "cell_type": "code",
   "execution_count": null,
   "id": "62c1a946-3768-4a7c-a47a-10f50b926cfe",
   "metadata": {},
   "outputs": [],
   "source": []
  }
 ],
 "metadata": {
  "kernelspec": {
   "display_name": "Python 3 (ipykernel)",
   "language": "python",
   "name": "python3"
  },
  "language_info": {
   "codemirror_mode": {
    "name": "ipython",
    "version": 3
   },
   "file_extension": ".py",
   "mimetype": "text/x-python",
   "name": "python",
   "nbconvert_exporter": "python",
   "pygments_lexer": "ipython3",
   "version": "3.11.7"
  }
 },
 "nbformat": 4,
 "nbformat_minor": 5
}
